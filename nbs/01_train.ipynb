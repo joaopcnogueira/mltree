{
 "cells": [
  {
   "cell_type": "code",
   "execution_count": null,
   "metadata": {},
   "outputs": [],
   "source": [
    "#| default_exp train"
   ]
  },
  {
   "cell_type": "markdown",
   "metadata": {},
   "source": [
    "# train\n",
    "\n",
    "> Train tree models."
   ]
  },
  {
   "cell_type": "code",
   "execution_count": null,
   "metadata": {},
   "outputs": [],
   "source": [
    "#|hide\n",
    "from nbdev.showdoc import *"
   ]
  },
  {
   "cell_type": "code",
   "execution_count": null,
   "metadata": {},
   "outputs": [],
   "source": [
    "#|export\n",
    "from typing import List\n",
    "import pandas as pd\n",
    "from sklearn.pipeline import Pipeline\n",
    "from sklearn.metrics import roc_auc_score\n",
    "from feature_engine.imputation import ArbitraryNumberImputer\n",
    "from feature_engine.imputation import CategoricalImputer\n",
    "from feature_engine.encoding import OneHotEncoder\n",
    "from sklearn.tree import DecisionTreeClassifier\n",
    "from sklearn.ensemble import RandomForestClassifier\n",
    "\n",
    "def train_tree_models(df_train: pd.DataFrame, # train dataset\n",
    "                      df_test: pd.DataFrame,  # test dataset\n",
    "                      target: str,            # target variable\n",
    "                      folds: int,             # cross-validation number of folds\n",
    "                      cat_features: List,     # categorical features\n",
    "                      num_features: List,     # numeric features\n",
    "                      seed: int):             # seed\n",
    "    \n",
    "    features = cat_features + num_features\n",
    "    X_train, y_train = df_train[features], df_train[target]\n",
    "    X_test, y_test = df_test[features], df_test[target]\n",
    "\n",
    "    base_pipe = Pipeline(steps=[\n",
    "        ('numeric_imputer', ArbitraryNumberImputer(variables=num_features)),\n",
    "        ('categoric_imputer', CategoricalImputer(variables=cat_features)),\n",
    "        ('one_hot_encoder', OneHotEncoder(variables=cat_features))\n",
    "    ])\n",
    "\n",
    "    dt = Pipeline(steps=base_pipe.steps + [('dt', DecisionTreeClassifier(max_depth=5, random_state=seed))])\n",
    "    rf = Pipeline(steps=base_pipe.steps + [('rf', RandomForestClassifier(n_estimators=300, max_depth=5, random_state=seed))])\n",
    "    models = [dt, rf]\n",
    "\n",
    "    metrics = {}\n",
    "    for model in models:\n",
    "        model.fit(X_train, y_train)\n",
    "        y_prob_train = model.predict_proba(X_train)[:,1]\n",
    "        y_prob_test = model.predict_proba(X_test)[:,1]\n",
    "\n",
    "        metrics[model.steps[-1][0]] = {\n",
    "            'auc': {\n",
    "                'train': roc_auc_score(y_train, y_prob_train),\n",
    "                'test': roc_auc_score(y_test, y_prob_test)\n",
    "            }\n",
    "        }\n",
    "\n",
    "    return metrics    "
   ]
  },
  {
   "cell_type": "markdown",
   "metadata": {},
   "source": [
    "# Basic usage"
   ]
  },
  {
   "cell_type": "markdown",
   "metadata": {},
   "source": [
    "First, load the analytical base table:"
   ]
  },
  {
   "cell_type": "code",
   "execution_count": null,
   "metadata": {},
   "outputs": [],
   "source": [
    "from pathlib import Path\n",
    "path = Path('..')\n",
    "datasets_path = path/'datasets'\n",
    "\n",
    "df = pd.read_csv(datasets_path/'churn_abt.csv')"
   ]
  },
  {
   "cell_type": "code",
   "execution_count": null,
   "metadata": {},
   "outputs": [
    {
     "data": {
      "text/html": [
       "<div>\n",
       "<style scoped>\n",
       "    .dataframe tbody tr th:only-of-type {\n",
       "        vertical-align: middle;\n",
       "    }\n",
       "\n",
       "    .dataframe tbody tr th {\n",
       "        vertical-align: top;\n",
       "    }\n",
       "\n",
       "    .dataframe thead th {\n",
       "        text-align: right;\n",
       "    }\n",
       "</style>\n",
       "<table border=\"1\" class=\"dataframe\">\n",
       "  <thead>\n",
       "    <tr style=\"text-align: right;\">\n",
       "      <th></th>\n",
       "      <th>data_ref_safra</th>\n",
       "      <th>seller_id</th>\n",
       "      <th>uf</th>\n",
       "      <th>tot_orders_12m</th>\n",
       "      <th>tot_items_12m</th>\n",
       "      <th>tot_items_dist_12m</th>\n",
       "      <th>receita_12m</th>\n",
       "      <th>recencia</th>\n",
       "      <th>nao_revendeu_next_6m</th>\n",
       "    </tr>\n",
       "  </thead>\n",
       "  <tbody>\n",
       "    <tr>\n",
       "      <th>0</th>\n",
       "      <td>2018-01-01</td>\n",
       "      <td>0015a82c2db000af6aaaf3ae2ecb0532</td>\n",
       "      <td>SP</td>\n",
       "      <td>3</td>\n",
       "      <td>3</td>\n",
       "      <td>1</td>\n",
       "      <td>2685.00</td>\n",
       "      <td>74</td>\n",
       "      <td>1</td>\n",
       "    </tr>\n",
       "    <tr>\n",
       "      <th>1</th>\n",
       "      <td>2018-01-01</td>\n",
       "      <td>001cca7ae9ae17fb1caed9dfb1094831</td>\n",
       "      <td>ES</td>\n",
       "      <td>171</td>\n",
       "      <td>207</td>\n",
       "      <td>9</td>\n",
       "      <td>21275.23</td>\n",
       "      <td>2</td>\n",
       "      <td>0</td>\n",
       "    </tr>\n",
       "    <tr>\n",
       "      <th>2</th>\n",
       "      <td>2018-01-01</td>\n",
       "      <td>002100f778ceb8431b7a1020ff7ab48f</td>\n",
       "      <td>SP</td>\n",
       "      <td>38</td>\n",
       "      <td>42</td>\n",
       "      <td>15</td>\n",
       "      <td>781.80</td>\n",
       "      <td>2</td>\n",
       "      <td>0</td>\n",
       "    </tr>\n",
       "    <tr>\n",
       "      <th>3</th>\n",
       "      <td>2018-01-01</td>\n",
       "      <td>003554e2dce176b5555353e4f3555ac8</td>\n",
       "      <td>GO</td>\n",
       "      <td>1</td>\n",
       "      <td>1</td>\n",
       "      <td>1</td>\n",
       "      <td>120.00</td>\n",
       "      <td>16</td>\n",
       "      <td>1</td>\n",
       "    </tr>\n",
       "    <tr>\n",
       "      <th>4</th>\n",
       "      <td>2018-01-01</td>\n",
       "      <td>004c9cd9d87a3c30c522c48c4fc07416</td>\n",
       "      <td>SP</td>\n",
       "      <td>130</td>\n",
       "      <td>141</td>\n",
       "      <td>75</td>\n",
       "      <td>16228.88</td>\n",
       "      <td>8</td>\n",
       "      <td>0</td>\n",
       "    </tr>\n",
       "    <tr>\n",
       "      <th>...</th>\n",
       "      <td>...</td>\n",
       "      <td>...</td>\n",
       "      <td>...</td>\n",
       "      <td>...</td>\n",
       "      <td>...</td>\n",
       "      <td>...</td>\n",
       "      <td>...</td>\n",
       "      <td>...</td>\n",
       "      <td>...</td>\n",
       "    </tr>\n",
       "    <tr>\n",
       "      <th>5364</th>\n",
       "      <td>2018-03-01</td>\n",
       "      <td>ff82e8873fba613f2261a9acc896fd84</td>\n",
       "      <td>MG</td>\n",
       "      <td>4</td>\n",
       "      <td>4</td>\n",
       "      <td>3</td>\n",
       "      <td>124.60</td>\n",
       "      <td>12</td>\n",
       "      <td>1</td>\n",
       "    </tr>\n",
       "    <tr>\n",
       "      <th>5365</th>\n",
       "      <td>2018-03-01</td>\n",
       "      <td>ffc470761de7d0232558ba5e786e57b7</td>\n",
       "      <td>SP</td>\n",
       "      <td>5</td>\n",
       "      <td>5</td>\n",
       "      <td>5</td>\n",
       "      <td>385.59</td>\n",
       "      <td>0</td>\n",
       "      <td>0</td>\n",
       "    </tr>\n",
       "    <tr>\n",
       "      <th>5366</th>\n",
       "      <td>2018-03-01</td>\n",
       "      <td>ffdd9f82b9a447f6f8d4b91554cc7dd3</td>\n",
       "      <td>PR</td>\n",
       "      <td>11</td>\n",
       "      <td>12</td>\n",
       "      <td>8</td>\n",
       "      <td>1450.20</td>\n",
       "      <td>7</td>\n",
       "      <td>0</td>\n",
       "    </tr>\n",
       "    <tr>\n",
       "      <th>5367</th>\n",
       "      <td>2018-03-01</td>\n",
       "      <td>ffeee66ac5d5a62fe688b9d26f83f534</td>\n",
       "      <td>SP</td>\n",
       "      <td>13</td>\n",
       "      <td>13</td>\n",
       "      <td>3</td>\n",
       "      <td>1709.87</td>\n",
       "      <td>0</td>\n",
       "      <td>0</td>\n",
       "    </tr>\n",
       "    <tr>\n",
       "      <th>5368</th>\n",
       "      <td>2018-03-01</td>\n",
       "      <td>fffd5413c0700ac820c7069d66d98c89</td>\n",
       "      <td>SP</td>\n",
       "      <td>33</td>\n",
       "      <td>34</td>\n",
       "      <td>22</td>\n",
       "      <td>5488.60</td>\n",
       "      <td>14</td>\n",
       "      <td>0</td>\n",
       "    </tr>\n",
       "  </tbody>\n",
       "</table>\n",
       "<p>5369 rows × 9 columns</p>\n",
       "</div>"
      ],
      "text/plain": [
       "     data_ref_safra  ... nao_revendeu_next_6m\n",
       "0        2018-01-01  ...                    1\n",
       "1        2018-01-01  ...                    0\n",
       "2        2018-01-01  ...                    0\n",
       "3        2018-01-01  ...                    1\n",
       "4        2018-01-01  ...                    0\n",
       "...             ...  ...                  ...\n",
       "5364     2018-03-01  ...                    1\n",
       "5365     2018-03-01  ...                    0\n",
       "5366     2018-03-01  ...                    0\n",
       "5367     2018-03-01  ...                    0\n",
       "5368     2018-03-01  ...                    0\n",
       "\n",
       "[5369 rows x 9 columns]"
      ]
     },
     "execution_count": null,
     "metadata": {},
     "output_type": "execute_result"
    }
   ],
   "source": [
    "df"
   ]
  },
  {
   "cell_type": "markdown",
   "metadata": {},
   "source": [
    "Split into train and test or out of time datasets:"
   ]
  },
  {
   "cell_type": "code",
   "execution_count": null,
   "metadata": {},
   "outputs": [],
   "source": [
    "df_train = df.query('data_ref_safra < \"2018-03-01\"')\n",
    "df_oot = df.query('data_ref_safra == \"2018-03-01\"')"
   ]
  },
  {
   "cell_type": "markdown",
   "metadata": {},
   "source": [
    "Get features metadata and types:"
   ]
  },
  {
   "cell_type": "code",
   "execution_count": null,
   "metadata": {},
   "outputs": [],
   "source": [
    "key_vars = ['data_ref_safra', 'seller_id']\n",
    "target = 'nao_revendeu_next_6m'\n",
    "num_vars = [ var for var in df.select_dtypes(include='number').columns.tolist() if var not in [target] ]\n",
    "cat_vars = [var for var in df.select_dtypes(exclude='number').columns.tolist() if var not in key_vars]"
   ]
  },
  {
   "cell_type": "markdown",
   "metadata": {},
   "source": [
    "Train based tree models:"
   ]
  },
  {
   "cell_type": "code",
   "execution_count": null,
   "metadata": {},
   "outputs": [
    {
     "data": {
      "text/plain": [
       "{'dt': {'auc': {'train': 0.9139680595991275, 'test': 0.8968114296299949}},\n",
       " 'rf': {'auc': {'train': 0.9072972070544887, 'test': 0.8964968670043654}}}"
      ]
     },
     "execution_count": null,
     "metadata": {},
     "output_type": "execute_result"
    }
   ],
   "source": [
    "train_tree_models(df_train, df_oot, target=target, folds=5, cat_features=cat_vars, num_features=num_vars, seed=42)"
   ]
  },
  {
   "cell_type": "code",
   "execution_count": null,
   "metadata": {},
   "outputs": [],
   "source": []
  }
 ],
 "metadata": {
  "kernelspec": {
   "display_name": "Python 3.8.13 ('mltree-nbdev')",
   "language": "python",
   "name": "python3"
  }
 },
 "nbformat": 4,
 "nbformat_minor": 4
}
